{
 "cells": [
  {
   "cell_type": "markdown",
   "metadata": {},
   "source": [
    "# OpenFermion Gran Canonical"
   ]
  },
  {
   "cell_type": "markdown",
   "metadata": {},
   "source": [
    "A diferencia de FermionicML, donde se trabaja en el canónico, la idea es implementar las matrices densidad de 1 y 2 cuerpos en el ensamble canónico, utilizando para ello operadores dados por OpenFermion, por la facilidad de generar los operadores (rhoKarrays) tomando la get_sparse_operator sobre la base. "
   ]
  },
  {
   "cell_type": "code",
   "execution_count": 188,
   "metadata": {},
   "outputs": [],
   "source": [
    "# CONFIG\n",
    "d = 3 # número de niveles"
   ]
  },
  {
   "cell_type": "code",
   "execution_count": 215,
   "metadata": {},
   "outputs": [
    {
     "name": "stdout",
     "output_type": "stream",
     "text": [
      "[0. 0. 1. 0. 0. 0. 0. 0.] 1.0 [1^]\n",
      "  (1, 2)\t(1+0j)\n",
      "  (5, 6)\t(1+0j)\n",
      "0.0\n",
      "1.0 [0^ 1^] 1.0 [0^ 2^]\n"
     ]
    }
   ],
   "source": [
    "import numpy as np\n",
    "import openfermion as op\n",
    "from tqdm import tqdm\n",
    "from itertools import combinations\n",
    "from openfermion.utils import commutator, count_qubits, hermitian_conjugated\n",
    "\n",
    "# Generación de base\n",
    "\n",
    "class fixed_basis:\n",
    "    @staticmethod\n",
    "    def int_to_bin(k, d):\n",
    "        return np.base_repr(k, 2).zfill(d)\n",
    "\n",
    "    @staticmethod\n",
    "    def bin_to_op(b):\n",
    "        tups = [(i, 1) for i, k in list(enumerate(list(b))) if k == '1']\n",
    "        return op.FermionOperator(tups)\n",
    "\n",
    "    def create_basis(self, d):\n",
    "        basis = []\n",
    "        for k in range(0,2**d):\n",
    "            b = self.int_to_bin(k, d)\n",
    "            oper = self.bin_to_op(b)\n",
    "            basis.append(oper)\n",
    "        return basis\n",
    "\n",
    "    def __init__(self, d):\n",
    "        self.d = d\n",
    "        self.base = self.create_basis(d)\n",
    "        self.size = 2**d-1\n",
    "        self.canonicals = np.eye(self.size+1)\n",
    "        self.rho_1_arrays = self.rho_1_arrays_gen(self.base)\n",
    "\n",
    "    @staticmethod\n",
    "    def bdb(i, j, d):\n",
    "        return op.FermionOperator(((i,1),(j,0)))\n",
    "\n",
    "    def rho_1_arrays_gen(self, base):\n",
    "        mat = np.zeros((self.d, self.d, self.size, self.size), dtype=object)\n",
    "        for i in range(0, d):\n",
    "            for j in range(0, d):\n",
    "                oper = op.get_sparse_operator(self.bdb(j, i, self.d), n_qubits=d)\n",
    "                for l in range(1, self.size):\n",
    "                    for m in range(1, self.size):\n",
    "                        mat[i,j,l,m] = self.base[1]\n",
    "        return mat\n",
    "\n",
    "\n",
    "#bbb = fixed_basis(d).rho_1_arrays\n",
    "i,j = 1, 2\n",
    "base = fixed_basis(d).base\n",
    "cano = fixed_basis(d).canonicals\n",
    "OPNUM = 2\n",
    "wfc = base[OPNUM]\n",
    "idx = cano[OPNUM]\n",
    "print(idx, wfc)\n",
    "OPME = fixed_basis.bdb(j, i, d)\n",
    "print(op.get_sparse_operator(OPME, n_qubits=d))\n",
    "\n",
    "#print(wfc)\n",
    "mean_val = lambda x: np.real(np.transpose(idx) @ np.transpose(op.get_sparse_operator(x, n_qubits=d)) @ idx)\n",
    "\n",
    "print(mean_val(fixed_basis.bdb(j, i, d)))\n",
    "#print(fixed_basis.bdb(j, i, d))\n",
    "#print(op.get_sparse_operator(fixed_basis.bdb(j, i, d), n_qubits=d))\n",
    "#op.linalg.expectation(fixed_basis.bdb(j, i, d), state=op.get_sparse_operator(base[1], n_qubits=d))\n",
    "print(base[6], base[5])"
   ]
  },
  {
   "cell_type": "code",
   "execution_count": 168,
   "metadata": {},
   "outputs": [
    {
     "name": "stdout",
     "output_type": "stream",
     "text": [
      "[1.0 [1^ 0^], 1.0 [0^], 1.0 [1^], 1.0 []] [[0. 0. 0. 1.]\n",
      " [0. 0. 1. 0.]\n",
      " [0. 1. 0. 0.]\n",
      " [1. 0. 0. 0.]]\n"
     ]
    }
   ],
   "source": [
    "print(base, cano)"
   ]
  }
 ],
 "metadata": {
  "kernelspec": {
   "display_name": "base",
   "language": "python",
   "name": "python3"
  },
  "language_info": {
   "codemirror_mode": {
    "name": "ipython",
    "version": 3
   },
   "file_extension": ".py",
   "mimetype": "text/x-python",
   "name": "python",
   "nbconvert_exporter": "python",
   "pygments_lexer": "ipython3",
   "version": "3.11.5"
  }
 },
 "nbformat": 4,
 "nbformat_minor": 2
}
