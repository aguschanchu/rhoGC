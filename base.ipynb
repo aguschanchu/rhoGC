{
 "cells": [
  {
   "cell_type": "markdown",
   "metadata": {},
   "source": [
    "# OpenFermion Gran Canonical"
   ]
  },
  {
   "cell_type": "markdown",
   "metadata": {},
   "source": [
    "A diferencia de FermionicML, donde se trabaja en el canónico, la idea es implementar las matrices densidad de 1 y 2 cuerpos en el ensamble canónico, utilizando para ello operadores dados por OpenFermion, por la facilidad de generar los operadores (rhoKarrays) tomando la get_sparse_operator sobre la base. "
   ]
  },
  {
   "cell_type": "code",
   "execution_count": 135,
   "metadata": {},
   "outputs": [],
   "source": [
    "import numpy as np\n",
    "import openfermion as of\n",
    "from tqdm import tqdm\n",
    "from itertools import combinations\n",
    "from openfermion.utils import commutator, count_qubits, hermitian_conjugated\n",
    "import functools\n",
    "\n",
    "# Generación de base\n",
    "class fixed_basis:\n",
    "    @staticmethod\n",
    "    def int_to_bin(k, d):\n",
    "        return np.base_repr(k, 2).zfill(d)\n",
    "\n",
    "    @staticmethod\n",
    "    def bin_to_op(b):\n",
    "        tups = [(i, 1) for i, k in list(enumerate(list(b))) if k == '1']\n",
    "        return of.FermionOperator(tups)\n",
    "    \n",
    "    def idx_to_repr(self, idx):\n",
    "        return self.canonicals[idx]\n",
    "    \n",
    "    def opr_to_idx(self, opr):\n",
    "        return self.base.index(opr)\n",
    "\n",
    "    # Calcula el valor medio a partir del indice del vector y el operador\n",
    "    def idx_mean_val(self, idx: int, op: of.FermionOperator):\n",
    "        vec = self.idx_to_repr(idx)\n",
    "        return np.real(np.transpose(vec) @ of.get_sparse_operator(op, n_qubits=self.d) @ vec)\n",
    "\n",
    "    # Calcula el valor medio a partir de un estado y el operador\n",
    "    def mean_val(self, vec, op):\n",
    "        idx = self.opr_to_idx(vec)\n",
    "        return self.idx_mean_val(idx, op)\n",
    "\n",
    "    # Calcula la contracción de un operador sobre dos estados dados\n",
    "    def idx_contraction(self, idx_1, idx_2, op):\n",
    "        rep = lambda x: self.idx_to_repr(x)\n",
    "        return np.real(np.transpose(rep(idx_1)) @ of.get_sparse_operator(op, n_qubits=self.d) @ rep(idx_2))\n",
    "\n",
    "    def create_basis(self, d, num = None):\n",
    "        basis = []\n",
    "        num_ele = []\n",
    "        for k in range(0,2**d):\n",
    "            b = self.int_to_bin(k, d)\n",
    "            if num != None:\n",
    "                if b.count('1') == num:\n",
    "                    oper = self.bin_to_op(b)\n",
    "                    basis.append(oper)\n",
    "                    num_ele.append(k)\n",
    "            else:\n",
    "                oper = self.bin_to_op(b)\n",
    "                basis.append(oper)\n",
    "        return basis, num_ele\n",
    "\n",
    "    def __init__(self, d, num = None):\n",
    "        self.d = d\n",
    "        self.num = num\n",
    "        self.base, self.num_ele = self.create_basis(d, num)\n",
    "        self.size = len(self.base)\n",
    "        self.canonicals = np.eye(self.size)\n",
    "        \n",
    "    @staticmethod\n",
    "    def cdc(i, j):\n",
    "        return of.FermionOperator(((i,1),(j,0)))\n",
    "\n",
    "    @staticmethod\n",
    "    def cc(i, j):\n",
    "        return of.FermionOperator(((i,0),(j,0)))\n",
    "\n",
    "    # Del indice, cuenta el número de partículas\n",
    "    def num_idx(self, idx):\n",
    "        b = self.int_to_bin(idx, basis.d)\n",
    "        return b.count('1')\n",
    "\n",
    "    # Calculo de rho1 (via directa, lento, y solo definido en la base por ahora)\n",
    "    def rho_1(self, op):\n",
    "        # Necesitamos un índice, es?\n",
    "        if type(op) != int:\n",
    "            op = self.opr_to_idx(op)\n",
    "        mat = np.zeros((self.d, self.d))\n",
    "        for i in range(self.d):\n",
    "            for j in range(self.d):\n",
    "                cdc = self.cdc(j, i)\n",
    "                mat[i,j] = self.idx_mean_val(op, cdc)\n",
    "        return mat\n",
    "        \n",
    "# Calculo de generadores de rho1\n",
    "def rho_1_gen(basis):\n",
    "    mat = np.zeros((basis.d, basis.d, basis.size, basis.size))\n",
    "    d = basis.d\n",
    "    for i in tqdm(range(0, d)):\n",
    "        for j in range(0, d):\n",
    "            op = basis.cdc(j, i)\n",
    "            if basis.num == None:\n",
    "                mat[i,j,::] = np.real(of.get_sparse_operator(op, n_qubits=d)).todense()\n",
    "            else:\n",
    "                mat[i,j,::] = np.real(of.get_sparse_operator(op, n_qubits=d)).todense()[np.ix_(basis.num_ele, basis.num_ele)]\n",
    "    return mat\n",
    "\n",
    "# Calculo de rho1 (via generadores) de un vector en la base canonica\n",
    "def rho_1(vect, rho_1_arrays):\n",
    "    return np.einsum('k,ijkl,l->ij', vect, rho_1_arrays, vect)\n",
    "\n",
    "# Calculo de generadores de K (usado para quasiparticles)\n",
    "def k_gen(basis):\n",
    "    mat = np.zeros((basis.d, basis.d, basis.size, basis.size))\n",
    "    d = basis.d\n",
    "    for i in tqdm(range(0, d)):\n",
    "        for j in range(0, d):\n",
    "            op = basis.cc(j, i)\n",
    "            if basis.num == None:\n",
    "                mat[i,j,::] = np.real(of.get_sparse_operator(op, n_qubits=d)).todense()\n",
    "            else:\n",
    "                mat[i,j,::] = np.real(of.get_sparse_operator(op, n_qubits=d)).todense()[np.ix_(basis.num_ele, basis.num_ele)]\n",
    "    return mat\n",
    "\n",
    "def k_vect(vect, k_gen):\n",
    "    return np.einsum('k,ijkl,l->ij', vect, k_gen, vect)\n",
    "\n",
    "# Calculo de generadores de rho2\n",
    "def rho_2_gen(basis, t_basis):\n",
    "    # La entrada i, j contiene C_j^\\dag C_i    i, j \\in t_basis\n",
    "    mat = np.zeros((t_basis.size, t_basis.size, basis.size, basis.size))\n",
    "    for i in tqdm(range(t_basis.size)):\n",
    "        for j in range(t_basis.size):\n",
    "            op = t_basis.base[j]*of.utils.hermitian_conjugated(t_basis.base[i])\n",
    "            if basis.num == None:\n",
    "                mat[i,j,::] = np.real(of.get_sparse_operator(op, n_qubits=d)).todense()\n",
    "            else:\n",
    "                mat[i,j,::] = np.real(of.get_sparse_operator(op, n_qubits=d)).todense()[np.ix_(basis.num_ele, basis.num_ele)]\n",
    "\n",
    "# Calculo de rho2 (via generadores) de un vector en la base canonica\n",
    "def rho_2(vect, rho_2_arrays):\n",
    "    return np.einsum('k,ijkl,l->ij', vect, rho_2_arrays, vect)\n",
    "\n",
    "# Calculo la matrix rho de cuasipartículas\n",
    "def rho_qsp(vect, rho_1_arrays, k_arrays):\n",
    "    rho1 = rho_1(vect, rho_1_arrays)\n",
    "    k = k_vect(vect, k_arrays)\n",
    "\n",
    "    mat = np.block([[rho1, k], [-np.conjugate(k), np.eye(rho_1_arrays.shape[0])-np.conjugate(rho1)]])\n",
    "    return mat\n",
    "\n",
    "# Devuelve los indices que tienen a level ocupado\n",
    "@functools.lru_cache(maxsize=None) \n",
    "def level_proy(d, level):\n",
    "    ids = []\n",
    "    for k in range(0,2**d):\n",
    "        b = fixed_basis.int_to_bin(k, d)\n",
    "        if b[level] == '1':\n",
    "            ids.append(k)\n",
    "    arr = np.zeros(2**d)\n",
    "    arr[np.array(ids)] = 1\n",
    "    return arr, ids\n",
    "\n",
    "@functools.lru_cache(maxsize=None) \n",
    "def parity_levels(d):\n",
    "    rng = range(2**d)\n",
    "    binary_repr = np.vectorize(np.binary_repr)(rng)\n",
    "    ones_c = np.char.count(binary_repr, '1')\n",
    "    return np.array(rng)[ones_c % 2 == 1] # seleccionamos estados impares\n",
    "\n",
    "# Devuelve el vector postmedido\n",
    "def measure(basis, vect, level = 1):\n",
    "    l_arr, l_ids = level_proy(basis.d, level)\n",
    "    proy_v = vect * l_arr\n",
    "    comp_arr = np.logical_not(l_arr).astype(int)\n",
    "    comp_v = vect * comp_arr\n",
    "    norm = lambda v: v / np.linalg.norm(v)\n",
    "    return norm(proy_v), norm(comp_v)\n",
    "\n"
   ]
  },
  {
   "cell_type": "markdown",
   "metadata": {},
   "source": [
    "Una vez definidos los operados globales, definamos funciones auxiliares utilizadas para el problema"
   ]
  },
  {
   "cell_type": "code",
   "execution_count": null,
   "metadata": {},
   "outputs": [],
   "source": [
    "def rand_state(d, parity = True):\n",
    "    st = np.random.uniform(0,1,2**d)\n",
    "    if parity:\n",
    "        st[parity_levels(d)] = 0\n",
    "    \n",
    "    return st/np.linalg.norm(st)"
   ]
  },
  {
   "cell_type": "code",
   "execution_count": 142,
   "metadata": {},
   "outputs": [
    {
     "name": "stdout",
     "output_type": "stream",
     "text": [
      "[ 5.89524829e-02  1.17904966e-01  5.89524829e-02 -2.22044605e-16]\n",
      "[ 3.89160474e-02  7.78320949e-02  1.16748142e-01  1.55664190e-01\n",
      "  1.16748142e-01  7.78320949e-02  3.89160474e-02 -4.44089210e-16]\n"
     ]
    }
   ],
   "source": [
    "# PRUEBITAS\n",
    "\n",
    "s_eig = lambda m: np.real(np.sort(np.linalg.eigvals(m))[::-1])\n",
    "\n",
    "d = 4\n",
    "est = rand_state(d)\n",
    "r1 = rho_1(est, rho_1_arrays)\n",
    "rqsp = rho_qsp(est, rho_1_arrays, k_arrays)\n",
    "\n",
    "p = r1[1,1]\n",
    "q = 1-p\n",
    "\n",
    "est_pm, est_pm_comp = measure(basis, est)\n",
    "\n",
    "\n",
    "r1_pm = rho_1(est_pm, rho_1_arrays)\n",
    "r1_pm_comp = rho_1(est_pm_comp, rho_1_arrays)\n",
    "print(-np.cumsum(s_eig(r1))+p*np.cumsum(s_eig(r1_pm))+q*np.cumsum(s_eig(r1_pm_comp)))\n",
    "\n",
    "# Lo mismo para QSP\n",
    "rqsp_pm = rho_qsp(est_pm, rho_1_arrays, k_arrays)\n",
    "rqsp_pm_comp = rho_qsp(est_pm_comp, rho_1_arrays, k_arrays)\n",
    "print(-np.cumsum(s_eig(rqsp))+p*np.cumsum(s_eig(rqsp_pm))+q*np.cumsum(s_eig(rqsp_pm_comp)))"
   ]
  },
  {
   "cell_type": "code",
   "execution_count": 90,
   "metadata": {},
   "outputs": [
    {
     "name": "stderr",
     "output_type": "stream",
     "text": [
      "100%|██████████| 4/4 [00:00<00:00, 40.25it/s]\n",
      "100%|██████████| 4/4 [00:00<00:00, 40.37it/s]\n"
     ]
    }
   ],
   "source": [
    "d = 4 # número de niveles\n",
    "num = None # número de particulas fijo, None es GC\n",
    "\n",
    "basis = fixed_basis(d)\n",
    "rho_1_arrays = rho_1_gen(basis)\n",
    "k_arrays = k_gen(basis)"
   ]
  },
  {
   "cell_type": "code",
   "execution_count": 116,
   "metadata": {},
   "outputs": [
    {
     "name": "stdout",
     "output_type": "stream",
     "text": [
      "1.0 [1^ 2^] 1.0 [0^ 1^ 2^ 3^]\n"
     ]
    },
    {
     "data": {
      "text/plain": [
       "array([ 1.61803399, -0.61803399, -0.61803399,  1.61803399,  2.        ,\n",
       "        2.        , -1.        , -1.        ])"
      ]
     },
     "execution_count": 116,
     "metadata": {},
     "output_type": "execute_result"
    }
   ],
   "source": [
    "#print(k_arrays[0,0])\n",
    "idx = 1, 8\n",
    "print(basis.base[6], basis.base[-1])\n",
    "x = basis.canonicals[6] + basis.canonicals[-1]\n",
    "#print(basis.base)\n",
    "rr=rho_qsp(x, rho_1_arrays, k_arrays)\n",
    "np.linalg.eigvals(rr)"
   ]
  },
  {
   "cell_type": "code",
   "execution_count": 41,
   "metadata": {},
   "outputs": [
    {
     "name": "stderr",
     "output_type": "stream",
     "text": [
      "100%|██████████| 4/4 [00:00<00:00, 41.87it/s]\n",
      "100%|██████████| 4/4 [00:00<00:00, 45.11it/s]\n"
     ]
    }
   ],
   "source": [
    "# CONFIG\n",
    "d = 4 # número de niveles\n",
    "num = None # número de particulas fijo, None es GC\n",
    "\n",
    "basis = fixed_basis(d)\n",
    "rho_1_arrays = rho_1_gen(basis)\n",
    "k_arrays = k_gen(basis)\n",
    "#t_basis = fixed_basis(d, num=2)\n",
    "#rho_2_arrays = rho_2_gen(basis, t_basis)"
   ]
  },
  {
   "cell_type": "code",
   "execution_count": 10,
   "metadata": {},
   "outputs": [
    {
     "name": "stdout",
     "output_type": "stream",
     "text": [
      "[1.0 [1^ 2^], 1.0 [0^ 2^], 1.0 [0^ 1^]]\n",
      "[1.0 [], 1.0 [2^], 1.0 [1^], 1.0 [1^ 2^], 1.0 [0^], 1.0 [0^ 2^], 1.0 [0^ 1^], 1.0 [0^ 1^ 2^]]\n"
     ]
    },
    {
     "data": {
      "text/plain": [
       "array([[0., 0., 0., 0., 0., 0., 0., 0.],\n",
       "       [0., 0., 0., 0., 0., 0., 0., 0.],\n",
       "       [0., 0., 0., 0., 0., 0., 0., 0.],\n",
       "       [0., 0., 0., 0., 0., 1., 0., 0.],\n",
       "       [0., 0., 0., 0., 0., 0., 0., 0.],\n",
       "       [0., 0., 0., 0., 0., 0., 0., 0.],\n",
       "       [0., 0., 0., 0., 0., 0., 0., 0.],\n",
       "       [0., 0., 0., 0., 0., 0., 0., 0.]])"
      ]
     },
     "execution_count": 10,
     "metadata": {},
     "output_type": "execute_result"
    }
   ],
   "source": [
    "d=3\n",
    "t_basis = fixed_basis(d, num=2)\n",
    "basis = fixed_basis(d)\n",
    "#print(t_basis.base[1])\n",
    "\n",
    "mat = np.zeros((t_basis.size, t_basis.size, basis.size, basis.size))\n",
    "for i in range(t_basis.size):\n",
    "    for j in range(t_basis.size):\n",
    "        op = t_basis.base[j]*of.utils.hermitian_conjugated(t_basis.base[i])\n",
    "        if basis.num == None:\n",
    "            mat[i,j,::] = np.real(of.get_sparse_operator(op, n_qubits=d)).todense()\n",
    "        else:\n",
    "            mat[i,j,::] = np.real(of.get_sparse_operator(op, n_qubits=d)).todense()[np.ix_(basis.num_ele, basis.num_ele)]\n",
    "\n",
    "print(t_basis.base)\n",
    "print(basis.base)\n",
    "mat[1,0]"
   ]
  },
  {
   "cell_type": "code",
   "execution_count": 67,
   "metadata": {},
   "outputs": [
    {
     "name": "stdout",
     "output_type": "stream",
     "text": [
      "1.0 [2^ 3^] 1.0 [1^ 3^]\n"
     ]
    },
    {
     "name": "stderr",
     "output_type": "stream",
     "text": [
      "100%|██████████| 4/4 [00:00<00:00, 31.74it/s]\n"
     ]
    },
    {
     "data": {
      "text/plain": [
       "array([[0., 0., 0., 0.],\n",
       "       [0., 1., 1., 0.],\n",
       "       [0., 1., 1., 0.],\n",
       "       [0., 0., 0., 2.]])"
      ]
     },
     "execution_count": 67,
     "metadata": {},
     "output_type": "execute_result"
    }
   ],
   "source": [
    "# BENCHMARK RHO1\n",
    "d = 4\n",
    "b = fixed_basis(d)\n",
    "vect = b.canonicals[3] + b.canonicals[5]\n",
    "print(b.base[3], b.base[5])\n",
    "ra = rho_1_gen(b)\n",
    "rho_1(vect, ra)\n"
   ]
  },
  {
   "cell_type": "code",
   "execution_count": 43,
   "metadata": {},
   "outputs": [
    {
     "name": "stdout",
     "output_type": "stream",
     "text": [
      "[[0. 0. 0.]\n",
      " [0. 0. 0.]\n",
      " [0. 0. 1.]]\n"
     ]
    },
    {
     "data": {
      "text/plain": [
       "array([[0., 0., 0.],\n",
       "       [0., 0., 0.],\n",
       "       [0., 0., 1.]])"
      ]
     },
     "execution_count": 43,
     "metadata": {},
     "output_type": "execute_result"
    }
   ],
   "source": [
    "est = 1\n",
    "c = b.canonicals[est]\n",
    "mat = np.zeros((b.d,b.d))\n",
    "for i in range(b.d):\n",
    "    for j in range(b.d):\n",
    "        mat[i, j] = c.T @ ra[i,j,::] @ c\n",
    "\n",
    "print(mat)\n",
    "np.einsum('k,ijkl,l->ij', c, ra, c)"
   ]
  },
  {
   "cell_type": "code",
   "execution_count": 35,
   "metadata": {},
   "outputs": [
    {
     "name": "stdout",
     "output_type": "stream",
     "text": [
      "[1.0 [], 1.0 [2^], 1.0 [1^], 1.0 [1^ 2^], 1.0 [0^], 1.0 [0^ 2^], 1.0 [0^ 1^], 1.0 [0^ 1^ 2^]]\n",
      "1.0 [2^]\n",
      "[[0. 0. 0.]\n",
      " [0. 0. 0.]\n",
      " [0. 0. 1.]]\n"
     ]
    },
    {
     "name": "stderr",
     "output_type": "stream",
     "text": [
      "100%|██████████| 3/3 [00:00<00:00, 69.91it/s]\n"
     ]
    },
    {
     "data": {
      "text/plain": [
       "array([[0., 0., 0.],\n",
       "       [0., 0., 0.],\n",
       "       [1., 1., 1.]])"
      ]
     },
     "execution_count": 35,
     "metadata": {},
     "output_type": "execute_result"
    }
   ],
   "source": [
    "b = fixed_basis(3)\n",
    "v = b.base[1]\n",
    "print(b.base)\n",
    "print(v)\n",
    "print(b.rho_1(v))\n",
    "\n",
    "ra = rho_1_gen(b)\n",
    "rho_1(b.canonicals[1], ra)\n"
   ]
  },
  {
   "cell_type": "code",
   "execution_count": null,
   "metadata": {},
   "outputs": [],
   "source": [
    "t_basis = fixed_basis(d, num=2)\n",
    "\n",
    "mat = np.zeros(t_basis.size, t_basis.size, basis.size, basis.size)"
   ]
  },
  {
   "cell_type": "code",
   "execution_count": 3,
   "metadata": {},
   "outputs": [
    {
     "name": "stdout",
     "output_type": "stream",
     "text": [
      "[1.0 [], 1.0 [3^], 1.0 [2^], 1.0 [2^ 3^], 1.0 [1^], 1.0 [1^ 3^], 1.0 [1^ 2^], 1.0 [1^ 2^ 3^], 1.0 [0^], 1.0 [0^ 3^], 1.0 [0^ 2^], 1.0 [0^ 2^ 3^], 1.0 [0^ 1^], 1.0 [0^ 1^ 3^], 1.0 [0^ 1^ 2^], 1.0 [0^ 1^ 2^ 3^]]\n",
      "[]\n"
     ]
    },
    {
     "name": "stderr",
     "output_type": "stream",
     "text": [
      "100%|██████████| 4/4 [00:00<00:00, 36.03it/s]\n"
     ]
    },
    {
     "data": {
      "text/plain": [
       "(16, 16)"
      ]
     },
     "execution_count": 3,
     "metadata": {},
     "output_type": "execute_result"
    }
   ],
   "source": [
    "basis = fixed_basis(d)\n",
    "print(basis.base)\n",
    "print(basis.num_ele)\n",
    "rho_1_gen(basis)[0,1].shape #C_dag(j) c_i"
   ]
  },
  {
   "cell_type": "code",
   "execution_count": null,
   "metadata": {},
   "outputs": [],
   "source": [
    "\n",
    "#bbb = fixed_basis(d).rho_1_arrays\n",
    "i,j = 1, 1\n",
    "base = fixed_basis(d).base\n",
    "cano = fixed_basis(d).canonicals\n",
    "OPNUM = 5\n",
    "wfc = base[OPNUM]\n",
    "idx = cano[OPNUM]\n",
    "print(idx, wfc)\n",
    "OPME = fixed_basis.cdc(j, i)\n",
    "print(of.get_sparse_operator(OPME, n_qubits=d))\n",
    "\n",
    "#print(wfc)\n",
    "mean_val = lambda x: np.real(np.transpose(idx) @ of.get_sparse_operator(x, n_qubits=d) @ idx)\n",
    "\n",
    "print(mean_val(fixed_basis.bdb(j, i)))\n",
    "#print(fixed_basis.bdb(j, i, d))\n",
    "#print(op.get_sparse_operator(fixed_basis.bdb(j, i, d), n_qubits=d))\n",
    "#op.linalg.expectation(fixed_basis.bdb(j, i, d), state=op.get_sparse_operator(base[1], n_qubits=d))\n",
    "print(base[6], base[5])\n",
    "print(fixed_basis(d).mean_val(wfc, OPME))"
   ]
  }
 ],
 "metadata": {
  "kernelspec": {
   "display_name": "base",
   "language": "python",
   "name": "python3"
  },
  "language_info": {
   "codemirror_mode": {
    "name": "ipython",
    "version": 3
   },
   "file_extension": ".py",
   "mimetype": "text/x-python",
   "name": "python",
   "nbconvert_exporter": "python",
   "pygments_lexer": "ipython3",
   "version": "3.11.5"
  }
 },
 "nbformat": 4,
 "nbformat_minor": 2
}
