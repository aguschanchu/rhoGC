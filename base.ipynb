{
 "cells": [
  {
   "cell_type": "markdown",
   "metadata": {},
   "source": [
    "# OpenFermion Gran Canonical"
   ]
  },
  {
   "cell_type": "markdown",
   "metadata": {},
   "source": [
    "A diferencia de FermionicML, donde se trabaja en el canónico, la idea es implementar las matrices densidad de 1 y 2 cuerpos en el ensamble canónico, utilizando para ello operadores dados por OpenFermion, por la facilidad de generar los operadores (rhoKarrays) tomando la get_sparse_operator sobre la base. "
   ]
  },
  {
   "cell_type": "code",
   "execution_count": 56,
   "metadata": {},
   "outputs": [],
   "source": [
    "# CONFIG\n",
    "d = 4 # número de niveles"
   ]
  },
  {
   "cell_type": "code",
   "execution_count": 96,
   "metadata": {},
   "outputs": [],
   "source": [
    "import numpy as np\n",
    "import openfermion as of\n",
    "from tqdm import tqdm\n",
    "from itertools import combinations\n",
    "from openfermion.utils import commutator, count_qubits, hermitian_conjugated\n",
    "\n",
    "# Generación de base\n",
    "\n",
    "class fixed_basis:\n",
    "    @staticmethod\n",
    "    def int_to_bin(k, d):\n",
    "        return np.base_repr(k, 2).zfill(d)\n",
    "\n",
    "    @staticmethod\n",
    "    def bin_to_op(b):\n",
    "        tups = [(i, 1) for i, k in list(enumerate(list(b))) if k == '1']\n",
    "        return of.FermionOperator(tups)\n",
    "    \n",
    "    def idx_to_repr(self, idx):\n",
    "        return self.canonicals[idx]\n",
    "    \n",
    "    def opr_to_idx(self, opr):\n",
    "        return self.base.index(opr)\n",
    "\n",
    "    # Calcula el valor medio a partir del indice del vector y el operador\n",
    "    def idx_mean_val(self, idx: int, op: of.FermionOperator):\n",
    "        vec = self.idx_to_repr(idx)\n",
    "        return np.real(np.transpose(vec) @ of.get_sparse_operator(op, n_qubits=self.d) @ vec)\n",
    "\n",
    "    # Calcula el valor medio a partir de un estado y el operador\n",
    "    def mean_val(self, vec, op):\n",
    "        idx = self.opr_to_idx(vec)\n",
    "        return self.idx_mean_val(idx, op)\n",
    "\n",
    "    # Calcula la contracción de un operador sobre dos estados dados\n",
    "    def idx_contraction(self, idx_1, idx_2, op):\n",
    "        rep = lambda x: self.idx_to_repr(x)\n",
    "        return np.real(np.transpose(rep(idx_1)) @ of.get_sparse_operator(op, n_qubits=self.d) @ rep(idx_2))\n",
    "\n",
    "    def create_basis(self, d, num = None):\n",
    "        basis = []\n",
    "        num_ele = []\n",
    "        for k in reversed(range(0,2**d)):\n",
    "            b = self.int_to_bin(k, d)\n",
    "            if num != None:\n",
    "                if b.count('1') == num:\n",
    "                    oper = self.bin_to_op(b)\n",
    "                    basis.append(oper)\n",
    "                    num_ele.append(k)\n",
    "            else:\n",
    "                oper = self.bin_to_op(b)\n",
    "                basis.append(oper)\n",
    "        return basis, num_ele\n",
    "\n",
    "    def __init__(self, d, num = None):\n",
    "        self.d = d\n",
    "        self.num = num\n",
    "        self.base, self.num_ele = self.create_basis(d, num)\n",
    "        self.size = len(self.base)\n",
    "        self.canonicals = np.eye(self.size)\n",
    "        \n",
    "    @staticmethod\n",
    "    def bdb(i, j):\n",
    "        return of.FermionOperator(((i,1),(j,0)))\n",
    "\n",
    "def rho_1_arrays_gen(basis):\n",
    "    mat = np.zeros((basis.d, basis.d, basis.size, basis.size))\n",
    "    d = basis.d\n",
    "\n",
    "    for i in tqdm(range(0, d)):\n",
    "        for j in range(0, d):\n",
    "            op = basis.bdb(j, i)\n",
    "            if basis.num == None:\n",
    "                mat[i,j,::] = np.real(of.get_sparse_operator(op, n_qubits=d)).todense()\n",
    "            else:\n",
    "                mat[i,j,::] = np.real(of.get_sparse_operator(op, n_qubits=d)).todense()[np.ix_(basis.num_ele, basis.num_ele)]\n",
    "    return mat\n",
    "\n"
   ]
  },
  {
   "cell_type": "code",
   "execution_count": 101,
   "metadata": {},
   "outputs": [
    {
     "name": "stdout",
     "output_type": "stream",
     "text": [
      "[1.0 [0^ 1^], 1.0 [0^ 2^], 1.0 [0^ 3^], 1.0 [1^ 2^], 1.0 [1^ 3^], 1.0 [2^ 3^]]\n",
      "[12, 10, 9, 6, 5, 3]\n"
     ]
    },
    {
     "name": "stderr",
     "output_type": "stream",
     "text": [
      "100%|██████████| 4/4 [00:00<00:00, 32.48it/s]\n"
     ]
    },
    {
     "data": {
      "text/plain": [
       "array([[0., 0., 0., 0., 0., 0.],\n",
       "       [0., 0., 0., 1., 0., 0.],\n",
       "       [0., 0., 0., 0., 1., 0.],\n",
       "       [0., 0., 0., 0., 0., 0.],\n",
       "       [0., 0., 0., 0., 0., 0.],\n",
       "       [0., 0., 0., 0., 0., 0.]])"
      ]
     },
     "execution_count": 101,
     "metadata": {},
     "output_type": "execute_result"
    }
   ],
   "source": [
    "basis = fixed_basis(d, num = 2)\n",
    "print(basis.base)\n",
    "print(basis.num_ele)\n",
    "rho_1_arrays_gen(basis)[1,0]"
   ]
  },
  {
   "cell_type": "code",
   "execution_count": null,
   "metadata": {},
   "outputs": [],
   "source": [
    "\n",
    "#bbb = fixed_basis(d).rho_1_arrays\n",
    "i,j = 1, 1\n",
    "base = fixed_basis(d).base\n",
    "cano = fixed_basis(d).canonicals\n",
    "OPNUM = 5\n",
    "wfc = base[OPNUM]\n",
    "idx = cano[OPNUM]\n",
    "print(idx, wfc)\n",
    "OPME = fixed_basis.bdb(j, i)\n",
    "print(of.get_sparse_operator(OPME, n_qubits=d))\n",
    "\n",
    "#print(wfc)\n",
    "mean_val = lambda x: np.real(np.transpose(idx) @ of.get_sparse_operator(x, n_qubits=d) @ idx)\n",
    "\n",
    "print(mean_val(fixed_basis.bdb(j, i)))\n",
    "#print(fixed_basis.bdb(j, i, d))\n",
    "#print(op.get_sparse_operator(fixed_basis.bdb(j, i, d), n_qubits=d))\n",
    "#op.linalg.expectation(fixed_basis.bdb(j, i, d), state=op.get_sparse_operator(base[1], n_qubits=d))\n",
    "print(base[6], base[5])\n",
    "print(fixed_basis(d).mean_val(wfc, OPME))"
   ]
  }
 ],
 "metadata": {
  "kernelspec": {
   "display_name": "base",
   "language": "python",
   "name": "python3"
  },
  "language_info": {
   "codemirror_mode": {
    "name": "ipython",
    "version": 3
   },
   "file_extension": ".py",
   "mimetype": "text/x-python",
   "name": "python",
   "nbconvert_exporter": "python",
   "pygments_lexer": "ipython3",
   "version": "3.11.5"
  }
 },
 "nbformat": 4,
 "nbformat_minor": 2
}
